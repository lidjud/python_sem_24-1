{
  "nbformat": 4,
  "nbformat_minor": 0,
  "metadata": {
    "colab": {
      "provenance": [],
      "include_colab_link": true
    },
    "kernelspec": {
      "name": "python3",
      "display_name": "Python 3"
    },
    "language_info": {
      "name": "python"
    }
  },
  "cells": [
    {
      "cell_type": "markdown",
      "metadata": {
        "id": "view-in-github",
        "colab_type": "text"
      },
      "source": [
        "<a href=\"https://colab.research.google.com/github/lidjud/python_sem_24-1/blob/main/Proyecto_2024_1.ipynb\" target=\"_parent\"><img src=\"https://colab.research.google.com/assets/colab-badge.svg\" alt=\"Open In Colab\"/></a>"
      ]
    },
    {
      "cell_type": "markdown",
      "source": [
        "#**Explora, pre-procesa y analiza un conjunto de datos reales.**"
      ],
      "metadata": {
        "id": "SG_1nU0-FU8K"
      }
    },
    {
      "cell_type": "markdown",
      "source": [
        "#Objetivos\n",
        "\n",
        "1. Importar un conjunto de datos.\n",
        "2. Prepararlos para análisis.\n",
        "3. Analizar y extraer carácteristicas específicas de los datos.\n",
        "4. Generar gráficas para visualizar los resultados."
      ],
      "metadata": {
        "id": "O8AOBXGXFz4o"
      }
    },
    {
      "cell_type": "markdown",
      "source": [
        "Fuente de Datos: [International migration flows to and from selected countries - The 2015 revision](https://www.un.org/development/desa/pd/data/international-migration-flows).\n",
        "\n",
        "Los datos son registros de la Organización de las Naciones Unidas de flujos migratorios internacionales. En estos datos se registran las entradas como las salidas de los viajeros incluyendo lugar de nacimiento, ciudadanía o lugar de residencia anterior/siguiente tanto para extranjeros como para nacionales. El link anterior contiene datos pertenecientes a 45 países.\n",
        "\n",
        "Para este proyecto, nos centraremos únicamente en inmigración canadiense.\n",
        "\n",
        "![Data Preview](https://cf-courses-data.s3.us.cloud-object-storage.appdomain.cloud/IBMDeveloperSkillsNetwork-DV0101EN-SkillsNetwork/labs/Module%201/images/DataSnapshot.png)\n",
        "\n",
        "El conjunto de datos de inmigración de Canadá se puede obtener de <a href=\"https://cf-courses-data.s3.us.cloud-object-storage.appdomain.cloud/IBMDeveloperSkillsNetwork-DV0101EN-SkillsNetwork/Data%20Files/Canada.xlsx\">aquí</a>."
      ],
      "metadata": {
        "id": "Mp2Ls84QGPup"
      }
    },
    {
      "cell_type": "code",
      "source": [
        "#Iniciaremos importando las librerías que vamos a utilizar\n",
        "import numpy as np\n",
        "import pandas as pd"
      ],
      "metadata": {
        "id": "KNWdcE-uG2-A"
      },
      "execution_count": null,
      "outputs": []
    },
    {
      "cell_type": "code",
      "source": [
        "from google.colab import files #Importamos el archivo de excel\n",
        "\n",
        "uploaded = files.upload()"
      ],
      "metadata": {
        "id": "vooLMJ1WDui_"
      },
      "execution_count": null,
      "outputs": []
    },
    {
      "cell_type": "code",
      "execution_count": null,
      "metadata": {
        "id": "G9wCnd_V_3w6"
      },
      "outputs": [],
      "source": [
        "#Utilizamos el alias de pandas para extraer un achivo en excel\n",
        "df_can = pd.read_excel(\n",
        "    'Canada.xlsx',\n",
        "    sheet_name='Canada by Citizenship',\n",
        "    skiprows=range(20),\n",
        "    skipfooter=2)\n",
        "\n",
        "print('Dataframe ready!')"
      ]
    },
    {
      "cell_type": "markdown",
      "source": [
        "Veamos las 5 filas superiores del conjunto de datos usando la función head()."
      ],
      "metadata": {
        "id": "w6QHn0wZHRoQ"
      }
    },
    {
      "cell_type": "code",
      "source": [
        "df_can.head()"
      ],
      "metadata": {
        "id": "1vi0hR56G-x6"
      },
      "execution_count": null,
      "outputs": []
    },
    {
      "cell_type": "markdown",
      "source": [
        "También podemos ver las 5 filas inferiores del conjunto de datos usando la función `tail()`."
      ],
      "metadata": {
        "id": "Sm7lOO-XHW4Y"
      }
    },
    {
      "cell_type": "code",
      "source": [
        "df_can.tail()"
      ],
      "metadata": {
        "id": "WxUcGcW4HEdp"
      },
      "execution_count": null,
      "outputs": []
    },
    {
      "cell_type": "markdown",
      "source": [
        "Para obtener la lista de encabezados de columna, podemos recurrir a la variable de instancia de columnas del marco de datos."
      ],
      "metadata": {
        "id": "dOdGZ2h8HoDY"
      }
    },
    {
      "cell_type": "code",
      "source": [
        "df_can.columns"
      ],
      "metadata": {
        "id": "LLdMs6l9HtGI"
      },
      "execution_count": null,
      "outputs": []
    },
    {
      "cell_type": "markdown",
      "source": [
        "De manera similar, para obtener la lista de índices usamos las variables de instancia .index."
      ],
      "metadata": {
        "id": "MzvugRa8HyGh"
      }
    },
    {
      "cell_type": "code",
      "source": [
        "df_can.index"
      ],
      "metadata": {
        "id": "0Elmm2mUH2qY"
      },
      "execution_count": null,
      "outputs": []
    },
    {
      "cell_type": "markdown",
      "source": [
        "Para obtener las columnas como listas, podemos usar el método tolist()."
      ],
      "metadata": {
        "id": "Azmpe6SGH-hR"
      }
    },
    {
      "cell_type": "code",
      "source": [
        "df_can.columns.tolist()"
      ],
      "metadata": {
        "id": "-hcYZ_LBH2nX"
      },
      "execution_count": null,
      "outputs": []
    },
    {
      "cell_type": "code",
      "source": [
        "#Cambiemos los nombres de las columnas de tipo entero a texto\n",
        "df_can.columns = list(map(str, df_can.columns))"
      ],
      "metadata": {
        "id": "O7n55IEZuMbk"
      },
      "execution_count": null,
      "outputs": []
    },
    {
      "cell_type": "code",
      "source": [
        "df_can.columns.tolist()"
      ],
      "metadata": {
        "id": "L2yeC7XMsX1e"
      },
      "execution_count": null,
      "outputs": []
    },
    {
      "cell_type": "markdown",
      "source": [
        "Para ver las dimensiones del marco de datos, usamos la variable de instancia de forma del mismo."
      ],
      "metadata": {
        "id": "nipATVODIM14"
      }
    },
    {
      "cell_type": "code",
      "source": [
        "# size of dataframe (rows, columns)\n",
        "df_can.shape"
      ],
      "metadata": {
        "id": "dlFp8iRbIN-L"
      },
      "execution_count": null,
      "outputs": []
    },
    {
      "cell_type": "markdown",
      "source": [
        "Limpia el conjunto de datos para eliminar algunas columnas innecesarias. Podemos usar el método pandas `drop()` de la siguiente manera:"
      ],
      "metadata": {
        "id": "iFn0DVQpIU6Q"
      }
    },
    {
      "cell_type": "code",
      "source": [
        "# En pandas axis=0 represents rows (default) and axis=1 represents columns.\n",
        "df_can.drop(['AREA','REG','DEV','Type','Coverage','RegName','DevName'], axis=1, inplace=True)\n",
        "df_can.head(2)"
      ],
      "metadata": {
        "id": "JbPC8UyzIN6x"
      },
      "execution_count": null,
      "outputs": []
    },
    {
      "cell_type": "markdown",
      "source": [
        "Cambia el nombre de las columnas para que tengan sentido. Usa el método `rename()` pasando un diccionario de nombres antiguos y nuevos de la siguiente manera:"
      ],
      "metadata": {
        "id": "bAGS9Tt-Inng"
      }
    },
    {
      "cell_type": "code",
      "source": [
        "df_can.rename(columns={'OdName':'Country', 'AreaName':'Continent'}, inplace=True)\n",
        "df_can.columns"
      ],
      "metadata": {
        "id": "nR7HUOrRIN3q"
      },
      "execution_count": null,
      "outputs": []
    },
    {
      "cell_type": "code",
      "source": [
        "#Vamos a crear un nuevo dataframe llamada df a partir de df_can. Seleccionaremos Country, Continent y, los años 1980 y 1981\n",
        "df = df_can[['Country', 'Continent', \"1980\", \"1981\"]]\n",
        "df"
      ],
      "metadata": {
        "id": "DRZKNQcavxo7"
      },
      "execution_count": null,
      "outputs": []
    },
    {
      "cell_type": "code",
      "source": [
        "# Con la siguiente instrucción selecccionamos una columna en específico y la convertimos a una lista\n",
        "df_1980 = list(df['1980'])"
      ],
      "metadata": {
        "id": "D0szWIvIv_wD"
      },
      "execution_count": null,
      "outputs": []
    },
    {
      "cell_type": "markdown",
      "source": [
        "#**Ejercicio número 1**\n",
        "\n",
        "1. A partir del dataframe `df_can` crea un nuevo dataframe que contenga los campos:\n",
        "\n",
        "  a. Country\n",
        "\n",
        "  b. Continent\n",
        "\n",
        "  c. Años del 2001 a 2010\n",
        "\n",
        "2. Crea una lista que contenga los datos de la columna Country\n",
        "\n",
        "3. Crea una lista para cada uno de los años del 2001 al 2010\n",
        "\n",
        "4. Crea una nueva lista que sume las listas anteriores elemento por elemento (fíjate en el siguiente ejemplo)"
      ],
      "metadata": {
        "id": "lE84MzbzGdfN"
      }
    },
    {
      "cell_type": "code",
      "source": [
        "#Creo una nueva lista que corresponde al año 1981\n",
        "df_1981 = list(df['1981'])"
      ],
      "metadata": {
        "id": "qiywJtI-GcNn"
      },
      "execution_count": null,
      "outputs": []
    },
    {
      "cell_type": "code",
      "source": [
        "#Reviso la longitud de cada una de las litas que generé, así como los primiero 5 elementos\n",
        "print(len(df_1980))\n",
        "print(len(df_1981))\n",
        "print(df_1980[:5])\n",
        "print(df_1981[:5])"
      ],
      "metadata": {
        "id": "zN6q2moLz-MC"
      },
      "execution_count": null,
      "outputs": []
    },
    {
      "cell_type": "code",
      "source": [
        "# Creo una sola lista con la suma de las dos listas (1980 y 1981) elemento por elemento y visualizo los primeros 5 elementos de la lista nueva.\n",
        "# Usa el método append y los ciclos for que consideres necesarios.\n",
        "# Importante: No puedes usar ningún otro método o función\n",
        "# Ejemplo:\n",
        "\n",
        "total_year = []\n",
        "\n",
        "for i in range(len(df_1980)):\n",
        "  total_year.append(df_1980[i])\n",
        "for i in range(len(df_1981)):\n",
        "  total_year[i] = total_year[i]+df_1981[i]\n",
        "\n",
        "print(total_year[:5])"
      ],
      "metadata": {
        "id": "WCiOM18Jy6yK"
      },
      "execution_count": null,
      "outputs": []
    },
    {
      "cell_type": "code",
      "source": [
        "# A partir de aquí realiza el código del ejercicio 1, puedes usar las celdas que sean necesarias."
      ],
      "metadata": {
        "id": "oUBYDwklJOLl"
      },
      "execution_count": null,
      "outputs": []
    },
    {
      "cell_type": "markdown",
      "source": [
        "#**Ejercicio número 2**\n",
        "\n",
        "De la lista nueva que creaste en el punto 4 del ejercicio 1, realiza lo siguiente:\n",
        "\n",
        "1. Crea un algoritmo que te permita ordenar de menor a mayor los valores que contiene la lista.\n",
        "\n",
        "2. Una vez ordenada la lista del punto 1 de este ejercicio, crea una nueva lista que contenga los últimos 20 elementos de esta misma lista ordenada.\n",
        "\n",
        "Importante: Utiliza dos ciclos for, uno anidado en otro.\n",
        "\n",
        "**No debes usar ningún método o función que ya esté programado en python que haga el ordenamiento**."
      ],
      "metadata": {
        "id": "NtuEWnZeJs88"
      }
    },
    {
      "cell_type": "code",
      "source": [
        "# Código para el ejercicio número 2"
      ],
      "metadata": {
        "id": "QUTzo6kRL39-"
      },
      "execution_count": null,
      "outputs": []
    },
    {
      "cell_type": "markdown",
      "source": [
        "Vamos a graficar!"
      ],
      "metadata": {
        "id": "VnxRcwcdXtaK"
      }
    },
    {
      "cell_type": "code",
      "source": [
        "#Importamos las librerías necesarias para graficar\n",
        "%matplotlib inline\n",
        "\n",
        "import matplotlib as mpl\n",
        "import matplotlib.pyplot as plt\n",
        "import numpy as np"
      ],
      "metadata": {
        "id": "XfklScaf2vIh"
      },
      "execution_count": null,
      "outputs": []
    },
    {
      "cell_type": "code",
      "source": [
        "#Aquí puedes seleccionar un estilo para tus gráficas\n",
        "print(plt.style.available)\n",
        "mpl.style.use(['ggplot']) #Seleccioné ggplot"
      ],
      "metadata": {
        "id": "6YG5NRX32wGB"
      },
      "execution_count": null,
      "outputs": []
    },
    {
      "cell_type": "markdown",
      "source": [
        "#**Ejercicio número 3**\n",
        "\n",
        "Gráfica los valores de la última lista que generaste"
      ],
      "metadata": {
        "id": "CBtQbHWBQFqE"
      }
    },
    {
      "cell_type": "code",
      "source": [
        "# Gráfica los 20 elementos de tu nueva lista. Puedes usar el siguiente ejemplo:\n",
        "plt.plot(new_list, \"ob--\", mfc = \"yellow\")\n",
        "# El primer argumento de la línea anterior hace referencia a la última lista generada,\n",
        "# El segundo argumento indica que queremos marcas \"o\" en cada punto de la gráfica y líneas (\"---\") de color azul\n",
        "# El tercer argumento es el color del relleno de las marcas\n",
        "\n",
        "plt.xlabel('Max values')\n",
        "plt.ylabel('Número')\n",
        "plt.title(\"Mayor cantidad de inmigrantes entre 1981 y 1982\")\n",
        "\n",
        "plt.show()"
      ],
      "metadata": {
        "colab": {
          "base_uri": "https://localhost:8080/",
          "height": 477
        },
        "id": "Md9krQYx26ZC",
        "outputId": "4ebeea10-e4f4-48c3-be1c-28c4d43f9e50"
      },
      "execution_count": null,
      "outputs": [
        {
          "output_type": "display_data",
          "data": {
            "text/plain": [
              "<Figure size 640x480 with 1 Axes>"
            ],
            "image/png": "[encoded data removed]"
          },
          "metadata": {}
        }
      ]
    },
    {
      "cell_type": "code",
      "source": [
        "# Código para el ejercicio 3"
      ],
      "metadata": {
        "id": "MpON8ExXRe7a"
      },
      "execution_count": null,
      "outputs": []
    },
    {
      "cell_type": "markdown",
      "source": [
        "#**Ejercicio número 4**\n",
        "\n",
        "1. Crea un diccionario que contenga las siguientes listas: Country, años del 2001 a 2010, Total (lista del ejercicio 1, punto número 4)\n",
        "\n",
        "2. A partir de tu diccionario, crea un nuevo dataframe que se llame df_new. Fíjate en el siguiente ejemplo."
      ],
      "metadata": {
        "id": "bMAkLvoDQntb"
      }
    },
    {
      "cell_type": "code",
      "source": [
        "dict_new = {'Country': df_country, '1980': df_1980, '1981': df_1981, 'Total': total_year}\n",
        "\n",
        "df_new = pd.DataFrame(dict_new)"
      ],
      "metadata": {
        "id": "BxkSj3ZdINzT"
      },
      "execution_count": null,
      "outputs": []
    },
    {
      "cell_type": "code",
      "source": [
        "# Código para el ejercicio 4"
      ],
      "metadata": {
        "id": "a2Sk3FNRRXVo"
      },
      "execution_count": null,
      "outputs": []
    },
    {
      "cell_type": "markdown",
      "source": [
        "Intentemos filtrar por la lista de países (\"Country\"). Fíjate en el siguiente ejemplo."
      ],
      "metadata": {
        "id": "7ZR-MGfvJVuI"
      }
    },
    {
      "cell_type": "code",
      "source": [
        "df_new.set_index('Country', inplace=True)\n",
        "df_new.head(3)"
      ],
      "metadata": {
        "id": "vDNORvtzJXbf",
        "colab": {
          "base_uri": "https://localhost:8080/",
          "height": 175
        },
        "outputId": "00f680cd-36ea-48e9-c63a-2a52b0d0f527"
      },
      "execution_count": null,
      "outputs": [
        {
          "output_type": "execute_result",
          "data": {
            "text/plain": [
              "             1980  1981  Total\n",
              "Country                       \n",
              "Afghanistan    16    39      0\n",
              "Albania         1     0      0\n",
              "Algeria        80    67      0"
            ],
            "text/html": [
              "\n",
              "  <div id=\"df-cb7f2e13-f0db-4e2b-9250-75ed1c107035\" class=\"colab-df-container\">\n",
              "    <div>\n",
              "<style scoped>\n",
              "    .dataframe tbody tr th:only-of-type {\n",
              "        vertical-align: middle;\n",
              "    }\n",
              "\n",
              "    .dataframe tbody tr th {\n",
              "        vertical-align: top;\n",
              "    }\n",
              "\n",
              "    .dataframe thead th {\n",
              "        text-align: right;\n",
              "    }\n",
              "</style>\n",
              "<table border=\"1\" class=\"dataframe\">\n",
              "  <thead>\n",
              "    <tr style=\"text-align: right;\">\n",
              "      <th></th>\n",
              "      <th>1980</th>\n",
              "      <th>1981</th>\n",
              "      <th>Total</th>\n",
              "    </tr>\n",
              "    <tr>\n",
              "      <th>Country</th>\n",
              "      <th></th>\n",
              "      <th></th>\n",
              "      <th></th>\n",
              "    </tr>\n",
              "  </thead>\n",
              "  <tbody>\n",
              "    <tr>\n",
              "      <th>Afghanistan</th>\n",
              "      <td>16</td>\n",
              "      <td>39</td>\n",
              "      <td>0</td>\n",
              "    </tr>\n",
              "    <tr>\n",
              "      <th>Albania</th>\n",
              "      <td>1</td>\n",
              "      <td>0</td>\n",
              "      <td>0</td>\n",
              "    </tr>\n",
              "    <tr>\n",
              "      <th>Algeria</th>\n",
              "      <td>80</td>\n",
              "      <td>67</td>\n",
              "      <td>0</td>\n",
              "    </tr>\n",
              "  </tbody>\n",
              "</table>\n",
              "</div>\n",
              "    <div class=\"colab-df-buttons\">\n",
              "\n",
              "  <div class=\"colab-df-container\">\n",
              "    <button class=\"colab-df-convert\" onclick=\"convertToInteractive('df-cb7f2e13-f0db-4e2b-9250-75ed1c107035')\"\n",
              "            title=\"Convert this dataframe to an interactive table.\"\n",
              "            style=\"display:none;\">\n",
              "\n",
              "  <svg xmlns=\"http://www.w3.org/2000/svg\" height=\"24px\" viewBox=\"0 -960 960 960\">\n",
              "    <path d=\"M120-120v-720h720v720H120Zm60-500h600v-160H180v160Zm220 220h160v-160H400v160Zm0 220h160v-160H400v160ZM180-400h160v-160H180v160Zm440 0h160v-160H620v160ZM180-180h160v-160H180v160Zm440 0h160v-160H620v160Z\"/>\n",
              "  </svg>\n",
              "    </button>\n",
              "\n",
              "  <style>\n",
              "    .colab-df-container {\n",
              "      display:flex;\n",
              "      gap: 12px;\n",
              "    }\n",
              "\n",
              "    .colab-df-convert {\n",
              "      background-color: #E8F0FE;\n",
              "      border: none;\n",
              "      border-radius: 50%;\n",
              "      cursor: pointer;\n",
              "      display: none;\n",
              "      fill: #1967D2;\n",
              "      height: 32px;\n",
              "      padding: 0 0 0 0;\n",
              "      width: 32px;\n",
              "    }\n",
              "\n",
              "    .colab-df-convert:hover {\n",
              "      background-color: #E2EBFA;\n",
              "      box-shadow: 0px 1px 2px rgba(60, 64, 67, 0.3), 0px 1px 3px 1px rgba(60, 64, 67, 0.15);\n",
              "      fill: #174EA6;\n",
              "    }\n",
              "\n",
              "    .colab-df-buttons div {\n",
              "      margin-bottom: 4px;\n",
              "    }\n",
              "\n",
              "    [theme=dark] .colab-df-convert {\n",
              "      background-color: #3B4455;\n",
              "      fill: #D2E3FC;\n",
              "    }\n",
              "\n",
              "    [theme=dark] .colab-df-convert:hover {\n",
              "      background-color: #434B5C;\n",
              "      box-shadow: 0px 1px 3px 1px rgba(0, 0, 0, 0.15);\n",
              "      filter: drop-shadow(0px 1px 2px rgba(0, 0, 0, 0.3));\n",
              "      fill: #FFFFFF;\n",
              "    }\n",
              "  </style>\n",
              "\n",
              "    <script>\n",
              "      const buttonEl =\n",
              "        document.querySelector('#df-cb7f2e13-f0db-4e2b-9250-75ed1c107035 button.colab-df-convert');\n",
              "      buttonEl.style.display =\n",
              "        google.colab.kernel.accessAllowed ? 'block' : 'none';\n",
              "\n",
              "      async function convertToInteractive(key) {\n",
              "        const element = document.querySelector('#df-cb7f2e13-f0db-4e2b-9250-75ed1c107035');\n",
              "        const dataTable =\n",
              "          await google.colab.kernel.invokeFunction('convertToInteractive',\n",
              "                                                    [key], {});\n",
              "        if (!dataTable) return;\n",
              "\n",
              "        const docLinkHtml = 'Like what you see? Visit the ' +\n",
              "          '<a target=\"_blank\" href=https://colab.research.google.com/notebooks/data_table.ipynb>data table notebook</a>'\n",
              "          + ' to learn more about interactive tables.';\n",
              "        element.innerHTML = '';\n",
              "        dataTable['output_type'] = 'display_data';\n",
              "        await google.colab.output.renderOutput(dataTable, element);\n",
              "        const docLink = document.createElement('div');\n",
              "        docLink.innerHTML = docLinkHtml;\n",
              "        element.appendChild(docLink);\n",
              "      }\n",
              "    </script>\n",
              "  </div>\n",
              "\n",
              "\n",
              "<div id=\"df-bcaf124f-acc4-44ec-a78b-dd034a26e716\">\n",
              "  <button class=\"colab-df-quickchart\" onclick=\"quickchart('df-bcaf124f-acc4-44ec-a78b-dd034a26e716')\"\n",
              "            title=\"Suggest charts.\"\n",
              "            style=\"display:none;\">\n",
              "\n",
              "<svg xmlns=\"http://www.w3.org/2000/svg\" height=\"24px\"viewBox=\"0 0 24 24\"\n",
              "     width=\"24px\">\n",
              "    <g>\n",
              "        <path d=\"M19 3H5c-1.1 0-2 .9-2 2v14c0 1.1.9 2 2 2h14c1.1 0 2-.9 2-2V5c0-1.1-.9-2-2-2zM9 17H7v-7h2v7zm4 0h-2V7h2v10zm4 0h-2v-4h2v4z\"/>\n",
              "    </g>\n",
              "</svg>\n",
              "  </button>\n",
              "\n",
              "<style>\n",
              "  .colab-df-quickchart {\n",
              "      --bg-color: #E8F0FE;\n",
              "      --fill-color: #1967D2;\n",
              "      --hover-bg-color: #E2EBFA;\n",
              "      --hover-fill-color: #174EA6;\n",
              "      --disabled-fill-color: #AAA;\n",
              "      --disabled-bg-color: #DDD;\n",
              "  }\n",
              "\n",
              "  [theme=dark] .colab-df-quickchart {\n",
              "      --bg-color: #3B4455;\n",
              "      --fill-color: #D2E3FC;\n",
              "      --hover-bg-color: #434B5C;\n",
              "      --hover-fill-color: #FFFFFF;\n",
              "      --disabled-bg-color: #3B4455;\n",
              "      --disabled-fill-color: #666;\n",
              "  }\n",
              "\n",
              "  .colab-df-quickchart {\n",
              "    background-color: var(--bg-color);\n",
              "    border: none;\n",
              "    border-radius: 50%;\n",
              "    cursor: pointer;\n",
              "    display: none;\n",
              "    fill: var(--fill-color);\n",
              "    height: 32px;\n",
              "    padding: 0;\n",
              "    width: 32px;\n",
              "  }\n",
              "\n",
              "  .colab-df-quickchart:hover {\n",
              "    background-color: var(--hover-bg-color);\n",
              "    box-shadow: 0 1px 2px rgba(60, 64, 67, 0.3), 0 1px 3px 1px rgba(60, 64, 67, 0.15);\n",
              "    fill: var(--button-hover-fill-color);\n",
              "  }\n",
              "\n",
              "  .colab-df-quickchart-complete:disabled,\n",
              "  .colab-df-quickchart-complete:disabled:hover {\n",
              "    background-color: var(--disabled-bg-color);\n",
              "    fill: var(--disabled-fill-color);\n",
              "    box-shadow: none;\n",
              "  }\n",
              "\n",
              "  .colab-df-spinner {\n",
              "    border: 2px solid var(--fill-color);\n",
              "    border-color: transparent;\n",
              "    border-bottom-color: var(--fill-color);\n",
              "    animation:\n",
              "      spin 1s steps(1) infinite;\n",
              "  }\n",
              "\n",
              "  @keyframes spin {\n",
              "    0% {\n",
              "      border-color: transparent;\n",
              "      border-bottom-color: var(--fill-color);\n",
              "      border-left-color: var(--fill-color);\n",
              "    }\n",
              "    20% {\n",
              "      border-color: transparent;\n",
              "      border-left-color: var(--fill-color);\n",
              "      border-top-color: var(--fill-color);\n",
              "    }\n",
              "    30% {\n",
              "      border-color: transparent;\n",
              "      border-left-color: var(--fill-color);\n",
              "      border-top-color: var(--fill-color);\n",
              "      border-right-color: var(--fill-color);\n",
              "    }\n",
              "    40% {\n",
              "      border-color: transparent;\n",
              "      border-right-color: var(--fill-color);\n",
              "      border-top-color: var(--fill-color);\n",
              "    }\n",
              "    60% {\n",
              "      border-color: transparent;\n",
              "      border-right-color: var(--fill-color);\n",
              "    }\n",
              "    80% {\n",
              "      border-color: transparent;\n",
              "      border-right-color: var(--fill-color);\n",
              "      border-bottom-color: var(--fill-color);\n",
              "    }\n",
              "    90% {\n",
              "      border-color: transparent;\n",
              "      border-bottom-color: var(--fill-color);\n",
              "    }\n",
              "  }\n",
              "</style>\n",
              "\n",
              "  <script>\n",
              "    async function quickchart(key) {\n",
              "      const quickchartButtonEl =\n",
              "        document.querySelector('#' + key + ' button');\n",
              "      quickchartButtonEl.disabled = true;  // To prevent multiple clicks.\n",
              "      quickchartButtonEl.classList.add('colab-df-spinner');\n",
              "      try {\n",
              "        const charts = await google.colab.kernel.invokeFunction(\n",
              "            'suggestCharts', [key], {});\n",
              "      } catch (error) {\n",
              "        console.error('Error during call to suggestCharts:', error);\n",
              "      }\n",
              "      quickchartButtonEl.classList.remove('colab-df-spinner');\n",
              "      quickchartButtonEl.classList.add('colab-df-quickchart-complete');\n",
              "    }\n",
              "    (() => {\n",
              "      let quickchartButtonEl =\n",
              "        document.querySelector('#df-bcaf124f-acc4-44ec-a78b-dd034a26e716 button');\n",
              "      quickchartButtonEl.style.display =\n",
              "        google.colab.kernel.accessAllowed ? 'block' : 'none';\n",
              "    })();\n",
              "  </script>\n",
              "</div>\n",
              "    </div>\n",
              "  </div>\n"
            ]
          },
          "metadata": {},
          "execution_count": 56
        }
      ]
    },
    {
      "cell_type": "markdown",
      "source": [
        "Clasifiquemos el marco de datos `df_new` en la columna `'Total'` en orden descendente para descubrir los 5 países que más contribuyeron a la inmigración a Canadá en 1980 y 1981."
      ],
      "metadata": {
        "id": "lUV7swOTN0zA"
      }
    },
    {
      "cell_type": "code",
      "source": [
        "df_new.sort_values(by='Total', ascending=False, axis=0, inplace=True)\n",
        "top_5 = df_new.head(5)\n",
        "top_5"
      ],
      "metadata": {
        "colab": {
          "base_uri": "https://localhost:8080/",
          "height": 238
        },
        "id": "ZBfQlv8-Nq4u",
        "outputId": "9d3ac101-f1c8-4083-fc5d-0136e521149b"
      },
      "execution_count": null,
      "outputs": [
        {
          "output_type": "execute_result",
          "data": {
            "text/plain": [
              "                1980  1981  Total\n",
              "Country                          \n",
              "Zimbabwe          72   114  46841\n",
              "Zambia            11    17  19408\n",
              "Yemen              1     2  17550\n",
              "Western Sahara     0     0  11972\n",
              "Viet Nam        1191  1829  11805"
            ],
            "text/html": [
              "\n",
              "  <div id=\"df-2301eef1-e0a8-4f85-baf8-e1d2230a0f00\" class=\"colab-df-container\">\n",
              "    <div>\n",
              "<style scoped>\n",
              "    .dataframe tbody tr th:only-of-type {\n",
              "        vertical-align: middle;\n",
              "    }\n",
              "\n",
              "    .dataframe tbody tr th {\n",
              "        vertical-align: top;\n",
              "    }\n",
              "\n",
              "    .dataframe thead th {\n",
              "        text-align: right;\n",
              "    }\n",
              "</style>\n",
              "<table border=\"1\" class=\"dataframe\">\n",
              "  <thead>\n",
              "    <tr style=\"text-align: right;\">\n",
              "      <th></th>\n",
              "      <th>1980</th>\n",
              "      <th>1981</th>\n",
              "      <th>Total</th>\n",
              "    </tr>\n",
              "    <tr>\n",
              "      <th>Country</th>\n",
              "      <th></th>\n",
              "      <th></th>\n",
              "      <th></th>\n",
              "    </tr>\n",
              "  </thead>\n",
              "  <tbody>\n",
              "    <tr>\n",
              "      <th>Zimbabwe</th>\n",
              "      <td>72</td>\n",
              "      <td>114</td>\n",
              "      <td>46841</td>\n",
              "    </tr>\n",
              "    <tr>\n",
              "      <th>Zambia</th>\n",
              "      <td>11</td>\n",
              "      <td>17</td>\n",
              "      <td>19408</td>\n",
              "    </tr>\n",
              "    <tr>\n",
              "      <th>Yemen</th>\n",
              "      <td>1</td>\n",
              "      <td>2</td>\n",
              "      <td>17550</td>\n",
              "    </tr>\n",
              "    <tr>\n",
              "      <th>Western Sahara</th>\n",
              "      <td>0</td>\n",
              "      <td>0</td>\n",
              "      <td>11972</td>\n",
              "    </tr>\n",
              "    <tr>\n",
              "      <th>Viet Nam</th>\n",
              "      <td>1191</td>\n",
              "      <td>1829</td>\n",
              "      <td>11805</td>\n",
              "    </tr>\n",
              "  </tbody>\n",
              "</table>\n",
              "</div>\n",
              "    <div class=\"colab-df-buttons\">\n",
              "\n",
              "  <div class=\"colab-df-container\">\n",
              "    <button class=\"colab-df-convert\" onclick=\"convertToInteractive('df-2301eef1-e0a8-4f85-baf8-e1d2230a0f00')\"\n",
              "            title=\"Convert this dataframe to an interactive table.\"\n",
              "            style=\"display:none;\">\n",
              "\n",
              "  <svg xmlns=\"http://www.w3.org/2000/svg\" height=\"24px\" viewBox=\"0 -960 960 960\">\n",
              "    <path d=\"M120-120v-720h720v720H120Zm60-500h600v-160H180v160Zm220 220h160v-160H400v160Zm0 220h160v-160H400v160ZM180-400h160v-160H180v160Zm440 0h160v-160H620v160ZM180-180h160v-160H180v160Zm440 0h160v-160H620v160Z\"/>\n",
              "  </svg>\n",
              "    </button>\n",
              "\n",
              "  <style>\n",
              "    .colab-df-container {\n",
              "      display:flex;\n",
              "      gap: 12px;\n",
              "    }\n",
              "\n",
              "    .colab-df-convert {\n",
              "      background-color: #E8F0FE;\n",
              "      border: none;\n",
              "      border-radius: 50%;\n",
              "      cursor: pointer;\n",
              "      display: none;\n",
              "      fill: #1967D2;\n",
              "      height: 32px;\n",
              "      padding: 0 0 0 0;\n",
              "      width: 32px;\n",
              "    }\n",
              "\n",
              "    .colab-df-convert:hover {\n",
              "      background-color: #E2EBFA;\n",
              "      box-shadow: 0px 1px 2px rgba(60, 64, 67, 0.3), 0px 1px 3px 1px rgba(60, 64, 67, 0.15);\n",
              "      fill: #174EA6;\n",
              "    }\n",
              "\n",
              "    .colab-df-buttons div {\n",
              "      margin-bottom: 4px;\n",
              "    }\n",
              "\n",
              "    [theme=dark] .colab-df-convert {\n",
              "      background-color: #3B4455;\n",
              "      fill: #D2E3FC;\n",
              "    }\n",
              "\n",
              "    [theme=dark] .colab-df-convert:hover {\n",
              "      background-color: #434B5C;\n",
              "      box-shadow: 0px 1px 3px 1px rgba(0, 0, 0, 0.15);\n",
              "      filter: drop-shadow(0px 1px 2px rgba(0, 0, 0, 0.3));\n",
              "      fill: #FFFFFF;\n",
              "    }\n",
              "  </style>\n",
              "\n",
              "    <script>\n",
              "      const buttonEl =\n",
              "        document.querySelector('#df-2301eef1-e0a8-4f85-baf8-e1d2230a0f00 button.colab-df-convert');\n",
              "      buttonEl.style.display =\n",
              "        google.colab.kernel.accessAllowed ? 'block' : 'none';\n",
              "\n",
              "      async function convertToInteractive(key) {\n",
              "        const element = document.querySelector('#df-2301eef1-e0a8-4f85-baf8-e1d2230a0f00');\n",
              "        const dataTable =\n",
              "          await google.colab.kernel.invokeFunction('convertToInteractive',\n",
              "                                                    [key], {});\n",
              "        if (!dataTable) return;\n",
              "\n",
              "        const docLinkHtml = 'Like what you see? Visit the ' +\n",
              "          '<a target=\"_blank\" href=https://colab.research.google.com/notebooks/data_table.ipynb>data table notebook</a>'\n",
              "          + ' to learn more about interactive tables.';\n",
              "        element.innerHTML = '';\n",
              "        dataTable['output_type'] = 'display_data';\n",
              "        await google.colab.output.renderOutput(dataTable, element);\n",
              "        const docLink = document.createElement('div');\n",
              "        docLink.innerHTML = docLinkHtml;\n",
              "        element.appendChild(docLink);\n",
              "      }\n",
              "    </script>\n",
              "  </div>\n",
              "\n",
              "\n",
              "<div id=\"df-fdb24c84-5455-424d-bc93-83994bf69fae\">\n",
              "  <button class=\"colab-df-quickchart\" onclick=\"quickchart('df-fdb24c84-5455-424d-bc93-83994bf69fae')\"\n",
              "            title=\"Suggest charts.\"\n",
              "            style=\"display:none;\">\n",
              "\n",
              "<svg xmlns=\"http://www.w3.org/2000/svg\" height=\"24px\"viewBox=\"0 0 24 24\"\n",
              "     width=\"24px\">\n",
              "    <g>\n",
              "        <path d=\"M19 3H5c-1.1 0-2 .9-2 2v14c0 1.1.9 2 2 2h14c1.1 0 2-.9 2-2V5c0-1.1-.9-2-2-2zM9 17H7v-7h2v7zm4 0h-2V7h2v10zm4 0h-2v-4h2v4z\"/>\n",
              "    </g>\n",
              "</svg>\n",
              "  </button>\n",
              "\n",
              "<style>\n",
              "  .colab-df-quickchart {\n",
              "      --bg-color: #E8F0FE;\n",
              "      --fill-color: #1967D2;\n",
              "      --hover-bg-color: #E2EBFA;\n",
              "      --hover-fill-color: #174EA6;\n",
              "      --disabled-fill-color: #AAA;\n",
              "      --disabled-bg-color: #DDD;\n",
              "  }\n",
              "\n",
              "  [theme=dark] .colab-df-quickchart {\n",
              "      --bg-color: #3B4455;\n",
              "      --fill-color: #D2E3FC;\n",
              "      --hover-bg-color: #434B5C;\n",
              "      --hover-fill-color: #FFFFFF;\n",
              "      --disabled-bg-color: #3B4455;\n",
              "      --disabled-fill-color: #666;\n",
              "  }\n",
              "\n",
              "  .colab-df-quickchart {\n",
              "    background-color: var(--bg-color);\n",
              "    border: none;\n",
              "    border-radius: 50%;\n",
              "    cursor: pointer;\n",
              "    display: none;\n",
              "    fill: var(--fill-color);\n",
              "    height: 32px;\n",
              "    padding: 0;\n",
              "    width: 32px;\n",
              "  }\n",
              "\n",
              "  .colab-df-quickchart:hover {\n",
              "    background-color: var(--hover-bg-color);\n",
              "    box-shadow: 0 1px 2px rgba(60, 64, 67, 0.3), 0 1px 3px 1px rgba(60, 64, 67, 0.15);\n",
              "    fill: var(--button-hover-fill-color);\n",
              "  }\n",
              "\n",
              "  .colab-df-quickchart-complete:disabled,\n",
              "  .colab-df-quickchart-complete:disabled:hover {\n",
              "    background-color: var(--disabled-bg-color);\n",
              "    fill: var(--disabled-fill-color);\n",
              "    box-shadow: none;\n",
              "  }\n",
              "\n",
              "  .colab-df-spinner {\n",
              "    border: 2px solid var(--fill-color);\n",
              "    border-color: transparent;\n",
              "    border-bottom-color: var(--fill-color);\n",
              "    animation:\n",
              "      spin 1s steps(1) infinite;\n",
              "  }\n",
              "\n",
              "  @keyframes spin {\n",
              "    0% {\n",
              "      border-color: transparent;\n",
              "      border-bottom-color: var(--fill-color);\n",
              "      border-left-color: var(--fill-color);\n",
              "    }\n",
              "    20% {\n",
              "      border-color: transparent;\n",
              "      border-left-color: var(--fill-color);\n",
              "      border-top-color: var(--fill-color);\n",
              "    }\n",
              "    30% {\n",
              "      border-color: transparent;\n",
              "      border-left-color: var(--fill-color);\n",
              "      border-top-color: var(--fill-color);\n",
              "      border-right-color: var(--fill-color);\n",
              "    }\n",
              "    40% {\n",
              "      border-color: transparent;\n",
              "      border-right-color: var(--fill-color);\n",
              "      border-top-color: var(--fill-color);\n",
              "    }\n",
              "    60% {\n",
              "      border-color: transparent;\n",
              "      border-right-color: var(--fill-color);\n",
              "    }\n",
              "    80% {\n",
              "      border-color: transparent;\n",
              "      border-right-color: var(--fill-color);\n",
              "      border-bottom-color: var(--fill-color);\n",
              "    }\n",
              "    90% {\n",
              "      border-color: transparent;\n",
              "      border-bottom-color: var(--fill-color);\n",
              "    }\n",
              "  }\n",
              "</style>\n",
              "\n",
              "  <script>\n",
              "    async function quickchart(key) {\n",
              "      const quickchartButtonEl =\n",
              "        document.querySelector('#' + key + ' button');\n",
              "      quickchartButtonEl.disabled = true;  // To prevent multiple clicks.\n",
              "      quickchartButtonEl.classList.add('colab-df-spinner');\n",
              "      try {\n",
              "        const charts = await google.colab.kernel.invokeFunction(\n",
              "            'suggestCharts', [key], {});\n",
              "      } catch (error) {\n",
              "        console.error('Error during call to suggestCharts:', error);\n",
              "      }\n",
              "      quickchartButtonEl.classList.remove('colab-df-spinner');\n",
              "      quickchartButtonEl.classList.add('colab-df-quickchart-complete');\n",
              "    }\n",
              "    (() => {\n",
              "      let quickchartButtonEl =\n",
              "        document.querySelector('#df-fdb24c84-5455-424d-bc93-83994bf69fae button');\n",
              "      quickchartButtonEl.style.display =\n",
              "        google.colab.kernel.accessAllowed ? 'block' : 'none';\n",
              "    })();\n",
              "  </script>\n",
              "</div>\n",
              "    </div>\n",
              "  </div>\n"
            ]
          },
          "metadata": {},
          "execution_count": 59
        }
      ]
    },
    {
      "cell_type": "markdown",
      "source": [
        "#**Ejercicio número 5**\n",
        "Descubre los 5 países que más contribuyeron a la inmigración a Canadá de los años 2001 a 2010.\n",
        "Muestra los nombres de los países con el recuento de inmigrantes del total (número de inmigrantes del año 2001 a 2010)."
      ],
      "metadata": {
        "id": "v2VFAvgeN7Mv"
      }
    },
    {
      "cell_type": "code",
      "source": [
        "# Código para el ejercicio 5"
      ],
      "metadata": {
        "id": "nXyTpN3oUSwL"
      },
      "execution_count": null,
      "outputs": []
    },
    {
      "cell_type": "markdown",
      "source": [
        "#**Ejercicio número 6**\n",
        "\n",
        "1. Realiza una gráfica de pie que nos permita ver los valores de los países que más contribuyeron a la inmigración del 2001 al 2010.\n",
        "\n",
        "2. Etiqueta por país cada una de las fracciones de la gráfica."
      ],
      "metadata": {
        "id": "ltw5wXtSUaID"
      }
    },
    {
      "cell_type": "code",
      "source": [
        "# Código para el ejercicio número 6"
      ],
      "metadata": {
        "id": "ZF35ND90CLL_"
      },
      "execution_count": null,
      "outputs": []
    },
    {
      "cell_type": "markdown",
      "source": [
        "#**Ejercicio número 7**\n",
        "\n",
        "Realiza el código para que el usuario visualice los resultado.\n",
        "Para ello, realiza un menú con los siguientes indicadores.\n",
        "\n",
        "1. Bienvenida. Describe brevemente de qué trata el programa.\n",
        "\n",
        "2. Despliega el siguiente menú.\n",
        "\n",
        "  a. Tabla de los primeros 15 elementos de la lista del archivo original.\n",
        "\n",
        "  b. Gráfica que contiene unicamente los 20 valores más altos del total de inmigrantes por país que llegaron a Canadá entre el 2001 y el 2010.\n",
        "\n",
        "  c. Tabla del top 5 de los países de los inmigrantes que llegaron a Canadá entre el 2001 y el 2010.\n",
        "\n",
        "  d. Gráfica del top 5 de los países de los inmigrantes que llegaron a Canadá entre el 2001 y el 2010.\n",
        "\n",
        "  e. Salir.\n",
        "\n",
        "3. El usuario deberá seleccionar una opción (letra o palabra) del menú las veces que lo solicite. No debe importar si la letra es mayúscula o minúscula. Si selecciona una opción que no se encuentra en el menú, solicitar al usuario que seleccione otra opción del menú."
      ],
      "metadata": {
        "id": "vOgKWDLzYttI"
      }
    },
    {
      "cell_type": "code",
      "source": [
        "# Código para el ejercicio 7"
      ],
      "metadata": {
        "id": "zRON63qvcNHn"
      },
      "execution_count": null,
      "outputs": []
    },
    {
      "cell_type": "markdown",
      "source": [
        "🙂 Gracias!"
      ],
      "metadata": {
        "id": "_9XmiaFpYoeR"
      }
    }
  ]
}