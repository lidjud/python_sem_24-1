{
  "nbformat": 4,
  "nbformat_minor": 0,
  "metadata": {
    "colab": {
      "provenance": [],
      "authorship_tag": "ABX9TyMOk8p6vgHawz3NIS+ufxKc",
      "include_colab_link": true
    },
    "kernelspec": {
      "name": "python3",
      "display_name": "Python 3"
    },
    "language_info": {
      "name": "python"
    }
  },
  "cells": [
    {
      "cell_type": "markdown",
      "metadata": {
        "id": "view-in-github",
        "colab_type": "text"
      },
      "source": [
        "<a href=\"https://colab.research.google.com/github/lidjud/python_sem_24-1/blob/main/Control_de_Flujo.ipynb\" target=\"_parent\"><img src=\"https://colab.research.google.com/assets/colab-badge.svg\" alt=\"Open In Colab\"/></a>"
      ]
    },
    {
      "cell_type": "markdown",
      "source": [
        "#While"
      ],
      "metadata": {
        "id": "h18igUewqezC"
      }
    },
    {
      "cell_type": "markdown",
      "source": [
        "Un bucle while realiza una operación mientras (while, en inglés) una determinada condición es True."
      ],
      "metadata": {
        "id": "R0eDepy-6fwp"
      }
    },
    {
      "cell_type": "markdown",
      "source": [
        "La sintaxis de un bucle while es similar a la de una instrucción if. Proporcione una condición y el código que quiere ejecutar mientras la condición sea True.\n",
        "\n",
        "```\n",
        "while <condition>:\n",
        "    # code here\n",
        "```\n",
        "\n",
        "\n",
        "\n"
      ],
      "metadata": {
        "id": "qoJhWIZG6rwR"
      }
    },
    {
      "cell_type": "code",
      "source": [
        "usuario = ''\n",
        "\n",
        "while usuario.lower() != 'done':\n",
        "  usuario = input(\"Escribe cuál es tu comida favorita: \")"
      ],
      "metadata": {
        "id": "2mW09DdR67sw"
      },
      "execution_count": 5,
      "outputs": []
    },
    {
      "cell_type": "code",
      "source": [
        "print(usuario)"
      ],
      "metadata": {
        "id": "SpIXzOXy7j71"
      },
      "execution_count": null,
      "outputs": []
    },
    {
      "cell_type": "code",
      "source": [
        "# Crea una variable para la entrada del usuario\n",
        "usuario =''\n",
        "# Crea una lista para almacenar los valores que ingresa el usuario\n",
        "comida = []\n",
        "\n",
        "# While loop\n",
        "while usuario.lower() != 'done':\n",
        "  # Verfica si hay un valor en usuario\n",
        "  if usuario:\n",
        "    # Almacena el valor en la lista\n",
        "    comida.append(usuario)\n",
        "  # Prompt para nuevo valor\n",
        "  usuario = input(\"Escribe cuál es tu comida favorita: \")"
      ],
      "metadata": {
        "id": "JAVqo-cI8DIR"
      },
      "execution_count": null,
      "outputs": []
    },
    {
      "cell_type": "markdown",
      "source": [
        "# Uso del bucle For"
      ],
      "metadata": {
        "id": "gp73ON-WCi1J"
      }
    },
    {
      "cell_type": "markdown",
      "source": [
        "Las listas de Python son iterables y se pueden usar con un bucle for. Se usa un bucle for con objetos iterables que va a recorrer en bucle un número conocido de veces, una vez para cada elemento del objeto iterable."
      ],
      "metadata": {
        "id": "Q_8HDgJHCx5A"
      }
    },
    {
      "cell_type": "code",
      "source": [
        "regresiva = [5, 4, 3, 2, 1, 0]\n",
        "for numero in regresiva:\n",
        "    print(numero)\n",
        "print(\"Despegue!! 🚀\")"
      ],
      "metadata": {
        "id": "C0H2xWGEq3W7"
      },
      "execution_count": null,
      "outputs": []
    },
    {
      "cell_type": "code",
      "source": [
        "from time import sleep\n",
        "\n",
        "regresiva = [5, 4, 3, 2, 1, 0]\n",
        "\n",
        "for numero in regresiva:\n",
        "    print(numero)\n",
        "    sleep(1)  # Wait 1 second\n",
        "print(\"Despegue!! 🚀\")"
      ],
      "metadata": {
        "id": "-5bmwlRXDKKJ"
      },
      "execution_count": null,
      "outputs": []
    },
    {
      "cell_type": "code",
      "source": [],
      "metadata": {
        "id": "mK2YMiPDDfDp"
      },
      "execution_count": 6,
      "outputs": []
    }
  ]
}